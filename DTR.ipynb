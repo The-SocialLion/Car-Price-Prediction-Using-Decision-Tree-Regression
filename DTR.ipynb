{
  "nbformat": 4,
  "nbformat_minor": 0,
  "metadata": {
    "colab": {
      "name": "Untitled30.ipynb",
      "provenance": []
    },
    "kernelspec": {
      "name": "python3",
      "display_name": "Python 3"
    }
  },
  "cells": [
    {
      "cell_type": "code",
      "metadata": {
        "id": "OotdQi5VWYhC"
      },
      "source": [
        "import numpy as np\n",
        "import pandas as pd"
      ],
      "execution_count": null,
      "outputs": []
    },
    {
      "cell_type": "code",
      "metadata": {
        "id": "fNdUy4a4WcHd"
      },
      "source": [
        "df=pd.read_csv('data.csv')\n",
        "dataset=df.drop(columns=['Model'])\n",
        "dataset=dataset.dropna(how='any')\n",
        "X=dataset.iloc[:,:-1].values\n",
        "y=dataset.iloc[:,-1].values\n"
      ],
      "execution_count": null,
      "outputs": []
    },
    {
      "cell_type": "markdown",
      "metadata": {
        "id": "iY5oFePPkPq-"
      },
      "source": [
        "Note:due to the fact that the dataset contains a lot of string values which is very useful in terms of prediction/accuracy hemnce we encode them "
      ]
    },
    {
      "cell_type": "code",
      "metadata": {
        "id": "vxXT5DefYgim",
        "outputId": "2c9cb4b6-67c8-4cf6-e622-38b662358792",
        "colab": {
          "base_uri": "https://localhost:8080/"
        }
      },
      "source": [
        "from sklearn.preprocessing import LabelEncoder\n",
        "le=LabelEncoder()\n",
        "X[:,0]=le.fit_transform(X[:,0])\n",
        "X[:,2]=le.fit_transform(X[:,2])\n",
        "X[:,5]=le.fit_transform(X[:,5])\n",
        "X[:,6]=le.fit_transform(X[:,6])\n",
        "X[:,8]=le.fit_transform(X[:,8])\n",
        "X[:,9]=le.fit_transform(X[:,9])\n",
        "X[:,10]=le.fit_transform(X[:,10])\n",
        "print(X)\n"
      ],
      "execution_count": null,
      "outputs": [
        {
          "output_type": "stream",
          "text": [
            "[[4 2011 6 ... 26 19 3916]\n",
            " [4 2011 6 ... 28 19 3916]\n",
            " [4 2011 6 ... 28 20 3916]\n",
            " ...\n",
            " [0 2012 6 ... 23 16 204]\n",
            " [0 2013 5 ... 23 16 204]\n",
            " [25 2006 7 ... 26 17 61]]\n"
          ],
          "name": "stdout"
        }
      ]
    },
    {
      "cell_type": "code",
      "metadata": {
        "id": "EahD78d_f9hH",
        "outputId": "a304179d-c69f-4110-ddc6-566d36c37d98",
        "colab": {
          "base_uri": "https://localhost:8080/"
        }
      },
      "source": [
        "y=y.reshape(len(y),1)\n",
        "print(y)"
      ],
      "execution_count": null,
      "outputs": [
        {
          "output_type": "stream",
          "text": [
            "[[46135]\n",
            " [40650]\n",
            " [36350]\n",
            " ...\n",
            " [50620]\n",
            " [50920]\n",
            " [28995]]\n"
          ],
          "name": "stdout"
        }
      ]
    },
    {
      "cell_type": "code",
      "metadata": {
        "id": "vFJupWkGZNfT"
      },
      "source": [
        "from sklearn.model_selection import train_test_split\n",
        "X_train, X_test, y_train, y_test = train_test_split(X, y, test_size = 0.2, random_state = 1)"
      ],
      "execution_count": null,
      "outputs": []
    },
    {
      "cell_type": "code",
      "metadata": {
        "id": "BypdGR3KgCtl",
        "outputId": "6b843f57-f632-4616-bb2c-12a58ac31a7c",
        "colab": {
          "base_uri": "https://localhost:8080/"
        }
      },
      "source": [
        "from sklearn.tree import DecisionTreeRegressor\n",
        "regressor = DecisionTreeRegressor(random_state = 0)\n",
        "regressor.fit(X_train, y_train)"
      ],
      "execution_count": null,
      "outputs": [
        {
          "output_type": "execute_result",
          "data": {
            "text/plain": [
              "DecisionTreeRegressor(ccp_alpha=0.0, criterion='mse', max_depth=None,\n",
              "                      max_features=None, max_leaf_nodes=None,\n",
              "                      min_impurity_decrease=0.0, min_impurity_split=None,\n",
              "                      min_samples_leaf=1, min_samples_split=2,\n",
              "                      min_weight_fraction_leaf=0.0, presort='deprecated',\n",
              "                      random_state=0, splitter='best')"
            ]
          },
          "metadata": {
            "tags": []
          },
          "execution_count": 65
        }
      ]
    },
    {
      "cell_type": "code",
      "metadata": {
        "id": "6vve353mgO-Q"
      },
      "source": [
        "y_pred=regressor.predict(X_test)"
      ],
      "execution_count": null,
      "outputs": []
    },
    {
      "cell_type": "code",
      "metadata": {
        "id": "1QzeLYIqgV1A",
        "outputId": "2c54bfa2-2e88-4e41-e167-82b2db573988",
        "colab": {
          "base_uri": "https://localhost:8080/"
        }
      },
      "source": [
        "np.set_printoptions(precision=2)\n",
        "print(np.concatenate((y_pred.reshape(len(y_pred),1), y_test.reshape(len(y_test),1)),1))"
      ],
      "execution_count": null,
      "outputs": [
        {
          "output_type": "stream",
          "text": [
            "[[ 23170.    23225.  ]\n",
            " [ 51231.67  55305.  ]\n",
            " [ 17250.    15945.  ]\n",
            " ...\n",
            " [102645.    95895.  ]\n",
            " [ 16095.    17395.  ]\n",
            " [ 37850.    41700.  ]]\n"
          ],
          "name": "stdout"
        }
      ]
    },
    {
      "cell_type": "markdown",
      "metadata": {
        "id": "PyJSp3sLX2uJ"
      },
      "source": [
        "Accuracy test:"
      ]
    },
    {
      "cell_type": "code",
      "metadata": {
        "id": "aRfekqhHVL12",
        "outputId": "38b7db39-40ca-4e20-e388-97d3e9f4fdc9",
        "colab": {
          "base_uri": "https://localhost:8080/"
        }
      },
      "source": [
        "from sklearn.metrics import r2_score\n",
        "a=r2_score(y_test, y_pred)\n",
        "print(abs(a*100))"
      ],
      "execution_count": null,
      "outputs": [
        {
          "output_type": "stream",
          "text": [
            "95.85125768340144\n"
          ],
          "name": "stdout"
        }
      ]
    },
    {
      "cell_type": "markdown",
      "metadata": {
        "id": "jH0TJTB-j3Tz"
      },
      "source": [
        "Note: From the above table we observe that accuracy of decision tree Regressor is good for huge datasets due to the fact that they are built for that reason"
      ]
    }
  ]
}